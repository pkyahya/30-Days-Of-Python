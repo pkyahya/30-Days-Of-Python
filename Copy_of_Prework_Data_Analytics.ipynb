{
  "nbformat": 4,
  "nbformat_minor": 0,
  "metadata": {
    "colab": {
      "provenance": [],
      "toc_visible": true,
      "include_colab_link": true
    },
    "kernelspec": {
      "name": "python3",
      "display_name": "Python 3"
    },
    "language_info": {
      "name": "python"
    }
  },
  "cells": [
    {
      "cell_type": "markdown",
      "metadata": {
        "id": "view-in-github",
        "colab_type": "text"
      },
      "source": [
        "<a href=\"https://colab.research.google.com/github/pkyahya/30-Days-Of-Python/blob/master/Copy_of_Prework_Data_Analytics.ipynb\" target=\"_parent\"><img src=\"https://colab.research.google.com/assets/colab-badge.svg\" alt=\"Open In Colab\"/></a>"
      ]
    },
    {
      "cell_type": "markdown",
      "source": [
        "------------------------------\n",
        "# IMPORTANT!!! Create a copy of this Colab!\n",
        "\n",
        "In order to work with this Google Colab you need to create a copy of it. Please **DO NOT** provide your answers here. Instead, work on the copy version. To make a copy:\n",
        "\n",
        "**Click on: File -> save a copy in drive**\n",
        "\n",
        "Have you successfully created the copy? if yes, there must be a new tab opened in your browser. Now move to the copy and start from there!\n",
        "\n",
        "----------------------------------------------"
      ],
      "metadata": {
        "id": "qHv0h2NSMEy7"
      }
    },
    {
      "cell_type": "markdown",
      "source": [
        "# Welcome to Prework of ReDI's Course: **Data Analytics** 🎉\n",
        "\n",
        "This Colab is divided into two parts:\n",
        "\n",
        "**1. Get Started with Google Colab** - A short introduction on how to use Google Colab.\n",
        "\n",
        "**2. Challenge** - A short challenge for you to work on. It has further resources for you to follow up on the topics."
      ],
      "metadata": {
        "id": "3wyNnFfmQZ3D"
      }
    },
    {
      "cell_type": "markdown",
      "source": [
        "# 1. Get Started with Google Colab\n",
        "\n",
        "We use Google Colab in the course. Colab, or \"Colaboratory\", allows you to write and execute Python in your browser. Whether you're a **student**, a **data scientist** or an **AI researcher**, Colab can make your work easier. Watch [Introduction to Colab](https://www.youtube.com/watch?v=inN8seMm7UI) to learn more, or just get started below!\n",
        "\n",
        "The document you are reading is an interactive environment called a **Colab notebook** that lets you write and execute code. When you create your own Colab notebooks, they are stored in your Google Drive account. You can easily share your Colab notebooks with co-workers or friends, allowing them to comment on your notebooks or even edit them. To learn more, see [Overview of Colab](/notebooks/basic_features_overview.ipynb). To create a new Colab notebook you can use the File menu above, or use the following link: [create a new Colab notebook](http://colab.research.google.com#create=true).\n",
        "\n",
        "Colab notebooks are Jupyter notebooks that are hosted by Colab."
      ],
      "metadata": {
        "id": "lS0jVoZGSlv4"
      }
    },
    {
      "cell_type": "markdown",
      "source": [
        "# 2. Challenge\n",
        "\n",
        "To have a smooth start in the Data Analytics course, we ask you to review essential python concepts. Please follow the To Do's below and add your code to the cells. If you are unsure about a concept, check out the additional resources and research yourself to solve it :)"
      ],
      "metadata": {
        "id": "mhoHs8lz1GQA"
      }
    },
    {
      "cell_type": "code",
      "source": [],
      "metadata": {
        "id": "EzGNcsJxAbxA"
      },
      "execution_count": null,
      "outputs": []
    },
    {
      "cell_type": "markdown",
      "source": [],
      "metadata": {
        "id": "YHDiLziiAbWS"
      }
    },
    {
      "cell_type": "code",
      "source": [],
      "metadata": {
        "id": "uD_De5RRAakT"
      },
      "execution_count": null,
      "outputs": []
    },
    {
      "cell_type": "markdown",
      "source": [
        "**Example**\n",
        "\n",
        "To Do: Create a variable called *income* and assign 40.00 to it."
      ],
      "metadata": {
        "id": "DODcHATcB6Z_"
      }
    },
    {
      "cell_type": "code",
      "source": [
        "# Your code"
      ],
      "metadata": {
        "id": "LC3SSMqoB9aC"
      },
      "execution_count": null,
      "outputs": []
    },
    {
      "cell_type": "markdown",
      "source": [
        "What dtype will the defined variable have?"
      ],
      "metadata": {
        "id": "8nvNQ6HQNmVt"
      }
    },
    {
      "cell_type": "markdown",
      "source": [
        "**I. Import Packages**\n",
        "\n",
        "To Do: Import Pandas and Numpy"
      ],
      "metadata": {
        "id": "YTqmpA63A5fl"
      }
    },
    {
      "cell_type": "code",
      "source": [
        "# Your code"
      ],
      "metadata": {
        "id": "JYNDJI2evVTd"
      },
      "execution_count": null,
      "outputs": []
    },
    {
      "cell_type": "markdown",
      "source": [
        "\n",
        "*Need help? Free online course to review Python concepts: [FreeCodeCamp Course](https://www.freecodecamp.org/learn/scientific-computing-with-python/) or *"
      ],
      "metadata": {
        "id": "EEDChtchDAwP"
      }
    },
    {
      "cell_type": "markdown",
      "source": [
        "**II. Variables and Types**\n",
        "\n",
        "To Do: Assign a equal to 3 and assign b equal to 5. Multiply the two variables and print the result."
      ],
      "metadata": {
        "id": "ryJaVh2zBCRq"
      }
    },
    {
      "cell_type": "code",
      "source": [
        "# Your code"
      ],
      "metadata": {
        "id": "7Na6YfPVBKff"
      },
      "execution_count": null,
      "outputs": []
    },
    {
      "cell_type": "markdown",
      "source": [
        "To Do: Print the type of the variable a"
      ],
      "metadata": {
        "id": "P3kaa5ikFgW5"
      }
    },
    {
      "cell_type": "code",
      "source": [
        "# Your code"
      ],
      "metadata": {
        "id": "f4gaUz2V0KCa"
      },
      "execution_count": null,
      "outputs": []
    },
    {
      "cell_type": "markdown",
      "source": [
        "*Need help? Online course to review Python concepts: [FreeCodeCamp Course](https://www.freecodecamp.org/learn/scientific-computing-with-python/) or [Dataquest Introduction to Python Programming](https://www.dataquest.io/course/introduction-to-python/)(only the free parts, not the paid ones!)*"
      ],
      "metadata": {
        "id": "Qm6-ai3ADWoH"
      }
    },
    {
      "cell_type": "markdown",
      "source": [
        "**III. Lists**\n",
        "\n",
        "To Do: Add the following Item to the list below:\n",
        "\n",
        "9"
      ],
      "metadata": {
        "id": "uBIAKhxpBGwc"
      }
    },
    {
      "cell_type": "code",
      "source": [
        "my_list_of_numbers = [1, 15, 18, 77, 18, 18, 89, 7]\n",
        "\n",
        "# Your code"
      ],
      "metadata": {
        "id": "Qo2ae6Te3qZC"
      },
      "execution_count": null,
      "outputs": []
    },
    {
      "cell_type": "markdown",
      "source": [
        "To Do: Print the 3rd to the 5th item of the list"
      ],
      "metadata": {
        "id": "Dovuft_yDoxP"
      }
    },
    {
      "cell_type": "code",
      "source": [
        "# Your code"
      ],
      "metadata": {
        "id": "BTCDy2cjOpte"
      },
      "execution_count": null,
      "outputs": []
    },
    {
      "cell_type": "markdown",
      "source": [
        "To Do: Print the last item of the list"
      ],
      "metadata": {
        "id": "9H_zsUq9DzXx"
      }
    },
    {
      "cell_type": "code",
      "source": [
        "# Your code"
      ],
      "metadata": {
        "id": "g9eASFhGPKIk"
      },
      "execution_count": null,
      "outputs": []
    },
    {
      "cell_type": "markdown",
      "source": [
        "To Do: Create an array using the above-given list."
      ],
      "metadata": {
        "id": "D-qVvy7POHxG"
      }
    },
    {
      "cell_type": "code",
      "source": [
        "# Your code"
      ],
      "metadata": {
        "id": "1d-_SOuCOVWi"
      },
      "execution_count": null,
      "outputs": []
    },
    {
      "cell_type": "markdown",
      "source": [
        "**IV. Dictionaries**\n",
        "\n",
        "To Do: Print all keys and all values"
      ],
      "metadata": {
        "id": "BEd2Kr8cBLF4"
      }
    },
    {
      "cell_type": "code",
      "source": [
        "fruits = {'apple':3,\n",
        "           'pear':2,\n",
        "           'banana':1\n",
        "          }\n",
        "# Your code"
      ],
      "metadata": {
        "id": "yUn9GyQ8x7VK"
      },
      "execution_count": null,
      "outputs": []
    },
    {
      "cell_type": "markdown",
      "source": [
        "*Need help? Review Dictionaries in these Online Courses: [DataCamp](https://www.datacamp.com/tutorial/dictionary-python), [FreeCodeCamp](https://www.freecodecamp.org/learn/scientific-computing-with-python/)*"
      ],
      "metadata": {
        "id": "iC0rUpl_EkXJ"
      }
    },
    {
      "cell_type": "markdown",
      "source": [
        "**V. Functions**\n",
        "\n",
        "To Do: Create a function that takes a string as an argument and adds a exclamation point to it, and returns the result."
      ],
      "metadata": {
        "id": "uYfnkdM6BOQA"
      }
    },
    {
      "cell_type": "code",
      "source": [
        "# Your code"
      ],
      "metadata": {
        "id": "xi_ue5H10JmP"
      },
      "execution_count": null,
      "outputs": []
    },
    {
      "cell_type": "markdown",
      "source": [
        "*Need Help? [kaggle resource](https://www.kaggle.com/code/colinmorris/functions-and-getting-help), [FreeCodeCamp Tutorial](https://www.freecodecamp.org/news/python-functions-define-and-call-a-function/)*"
      ],
      "metadata": {
        "id": "BzH8rClyFvpj"
      }
    },
    {
      "cell_type": "markdown",
      "source": [
        "**VI. Pandas**\n",
        "\n",
        "To Do: Execute the following cell to import the Berlin Housing Dataset. Make sure you imported pandas."
      ],
      "metadata": {
        "id": "COPbIbD1BSHo"
      }
    },
    {
      "cell_type": "code",
      "source": [
        "flats = pd.read_csv('https://raw.githubusercontent.com/juliandnl/redi_ss20/master/berlin_rental.csv')"
      ],
      "metadata": {
        "id": "-z7SFI6TA4Ux"
      },
      "execution_count": null,
      "outputs": []
    },
    {
      "cell_type": "markdown",
      "source": [
        "To Do: Print the first 5 rows."
      ],
      "metadata": {
        "id": "3_8nCQ7jQwyq"
      }
    },
    {
      "cell_type": "code",
      "source": [
        "# Your code"
      ],
      "metadata": {
        "id": "Xw89xsqeQ2dN"
      },
      "execution_count": null,
      "outputs": []
    },
    {
      "cell_type": "markdown",
      "source": [
        "To Do: Get the type of *Condition*"
      ],
      "metadata": {
        "id": "HUfv1yBTHHlt"
      }
    },
    {
      "cell_type": "code",
      "source": [
        "# Your code"
      ],
      "metadata": {
        "id": "7Xg_g_Wzukn0"
      },
      "execution_count": null,
      "outputs": []
    },
    {
      "cell_type": "markdown",
      "source": [
        "To Do: How many rows and columns does *flats* have?"
      ],
      "metadata": {
        "id": "A9OBiuo-HTS_"
      }
    },
    {
      "cell_type": "code",
      "source": [
        "# Your code"
      ],
      "metadata": {
        "id": "0wpdiWc4u7A0"
      },
      "execution_count": null,
      "outputs": []
    },
    {
      "cell_type": "markdown",
      "source": [
        "*Need Help? [kaggle resource](https://www.kaggle.com/learn/pandas), [Datacamp Resource](https://www.datacamp.com/tutorial/pandas)*."
      ],
      "metadata": {
        "id": "OIJSz96FHc7j"
      }
    },
    {
      "cell_type": "markdown",
      "source": [
        "# Congratulations - You are Done! 👍\n",
        "\n",
        "Now you mark your Prework as complete and finish the Application Form. In the Application Form we ask you to share the link to this Google Colab!\n",
        "\n",
        "**Please update the sharing settings: Share with everyone. So that we can open your Colab.**"
      ],
      "metadata": {
        "id": "XTbkEDfWHxwV"
      }
    }
  ]
}